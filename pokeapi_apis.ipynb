{
 "cells": [
  {
   "cell_type": "markdown",
   "metadata": {
    "id": "-xYxMrfQcIe5"
   },
   "source": [
    "### **EXTRAER DATOS DE UNA API**"
   ]
  },
  {
   "cell_type": "code",
   "execution_count": null,
   "metadata": {
    "colab": {
     "base_uri": "https://localhost:8080/"
    },
    "id": "mza9cfnxYANP",
    "outputId": "e0be26e8-a8e0-47c3-f851-6d384b3b0660"
   },
   "outputs": [
    {
     "name": "stdout",
     "output_type": "stream",
     "text": [
      "{'slip': {'id': 86, 'advice': \"Never write in an email to someone, something which you wouldn't say to that person's face.\"}}\n"
     ]
    }
   ],
   "source": [
    "import requests\n",
    "\n",
    "#agregar la url del api en una variable\n",
    "url = 'https://api.adviceslip.com/advice'\n",
    "\n",
    "#utilizar el comando get de la libreria requests y meter el contenido en una variable\n",
    "#En la documentación de la API menciona el formato de la respuesta (json)\n",
    "#El contenido que guarda esta variable es por defecto una cadena de texto\n",
    "respuesta = requests.get(url)\n",
    "\n",
    "#convierte la cadena de texto en formato json\n",
    "data = respuesta.json()\n",
    "\n",
    "print(data)"
   ]
  },
  {
   "cell_type": "markdown",
   "metadata": {
    "id": "_xRl0qjbcoaR"
   },
   "source": [
    "### **EJEMPLOS DE JSON**"
   ]
  },
  {
   "cell_type": "code",
   "execution_count": null,
   "metadata": {
    "id": "Ukx7SelibshZ"
   },
   "outputs": [],
   "source": [
    "\n",
    "#JSON como clave valor - CLAVES\n",
    "\n",
    "{\n",
    "  \"nombre\": \"Ángel\",\n",
    "  \"edad\": 30\n",
    "}\n",
    "\n",
    "\n",
    "#JSON como lista - CORCHETES\n",
    "\n",
    "[\"perro\", \"gato\", \"loro\"]\n",
    "\n",
    "\n",
    "#JSON como lista de objetos\n",
    "\n",
    "[\n",
    "  { \"id\": 1, \"nombre\": \"Ana\" },\n",
    "  { \"id\": 2, \"nombre\": \"Luis\" }\n",
    "]\n"
   ]
  },
  {
   "cell_type": "markdown",
   "metadata": {
    "id": "2--0x9BHlukr"
   },
   "source": [
    "### **EJEMPLO DE UNA API MANUAL**\n"
   ]
  },
  {
   "cell_type": "markdown",
   "metadata": {
    "id": "rXBThRBiBDjN"
   },
   "source": [
    "Cuando recibes un JSON de una API, lo primero que haces es ubicar la estructura donde están los datos que realmente te interesan. Y en muchos casos, esa estructura es una lista dentro de un objeto.\n",
    "\n",
    "Imagínate que el JSON es como una mochila con muchas cremalleras. Algunas cremalleras llevan a otras bolsas dentro.\n",
    "Tú tienes que abrir las cremalleras (claves) hasta encontrar la parte que te interesa, que suele estar en una lista de objetos."
   ]
  },
  {
   "cell_type": "code",
   "execution_count": null,
   "metadata": {
    "colab": {
     "base_uri": "https://localhost:8080/"
    },
    "id": "_jcv5Sz0ltHu",
    "outputId": "71879199-3f0e-411f-e7fb-5bf0d173f435"
   },
   "outputs": [
    {
     "name": "stdout",
     "output_type": "stream",
     "text": [
      "[{'nombre': 'Ana', 'edad': 28}, {'nombre': 'Luis', 'edad': 32}]\n"
     ]
    }
   ],
   "source": [
    "#CASO1 -- una lista como json\n",
    "\n",
    "import json\n",
    "\n",
    "#JSON como lista de objetos de forma manual\n",
    "#se pone comillas para que se lea como cadena de texto\n",
    "apijson = '''\n",
    "[\n",
    "  { \"nombre\": \"Ana\", \"edad\": 28 },\n",
    "  { \"nombre\": \"Luis\", \"edad\": 32 }\n",
    "]\n",
    "'''\n",
    "\n",
    "#loads significa Load String, es decir: \"Cargar desde una cadena de texto\".\n",
    "#load carga una cadena de texto y lo convierte en una estructura de python (list,dict)\n",
    "personas = json.loads(apijson)\n",
    "\n",
    "print(personas)"
   ]
  },
  {
   "cell_type": "code",
   "execution_count": null,
   "metadata": {
    "colab": {
     "base_uri": "https://localhost:8080/"
    },
    "id": "491qo9f9oYaS",
    "outputId": "ea808e59-dd5e-4c54-d929-9d44c875bb25"
   },
   "outputs": [
    {
     "name": "stdout",
     "output_type": "stream",
     "text": [
      "{'status': 'ok', 'total': 3, 'resultados': [{'nombre': 'Ana', 'edad': 30}, {'nombre': 'Luis', 'edad': 28}]}\n"
     ]
    }
   ],
   "source": [
    "#CASO2 -- una lista dentro dentro de un objeto json\n",
    "\n",
    "import json\n",
    "\n",
    "#se pone comillas para que se lea como cadena de texto\n",
    "#Aunque tenga la forma de diccionario, esto sigue siendo solo un texto, no un objeto aún.\n",
    "apijson = '''\n",
    "{\n",
    "  \"status\": \"ok\",\n",
    "  \"total\": 3,\n",
    "  \"resultados\": [\n",
    "    { \"nombre\": \"Ana\", \"edad\": 30 },\n",
    "    { \"nombre\": \"Luis\", \"edad\": 28 }\n",
    "  ]\n",
    "}\n",
    "'''\n",
    "\n",
    "personas = json.loads(apijson)\n",
    "\n",
    "print(personas)\n"
   ]
  },
  {
   "cell_type": "code",
   "execution_count": null,
   "metadata": {
    "colab": {
     "base_uri": "https://localhost:8080/"
    },
    "id": "jheg5esPp6EN",
    "outputId": "d12fb70f-0636-43b3-9aa8-969673071463"
   },
   "outputs": [
    {
     "name": "stdout",
     "output_type": "stream",
     "text": [
      "Obtener solo las primeras claves\n",
      "ok\n",
      "3\n",
      "[{'nombre': 'Ana', 'edad': 30}, {'nombre': 'Luis', 'edad': 28}]\n",
      "--------------------------------------------------------------------------------\n",
      "Obtener los valores de la primera clave\n",
      "{'nombre': 'Ana', 'edad': 30}\n",
      "Ana\n",
      "30\n",
      "--------------------------------------------------------------------------------\n",
      "Obtener los valores de la segunda clave\n",
      "{'nombre': 'Luis', 'edad': 28}\n",
      "Luis\n",
      "28\n"
     ]
    }
   ],
   "source": [
    "#CASO3 -- Acceder a un valor que esta dentro de una lista que esta dentro de un objeto json\n",
    "\n",
    "import json\n",
    "\n",
    "apijson = '''\n",
    "{\n",
    "  \"status\": \"ok\",\n",
    "  \"total\": 3,\n",
    "  \"resultados\": [\n",
    "    { \"nombre\": \"Ana\", \"edad\": 30 },\n",
    "    { \"nombre\": \"Luis\", \"edad\": 28 }\n",
    "  ]\n",
    "}\n",
    "'''\n",
    "\n",
    "personas = json.loads(apijson)\n",
    "\n",
    "print(\"Obtener solo las primeras claves\")\n",
    "print(personas['status'])\n",
    "print(personas['total'])\n",
    "print(personas['resultados'])\n",
    "print(\"-\"*80)\n",
    "print(\"Obtener los valores de la primera clave\")\n",
    "print(personas['resultados'][0]) #se obtiene todo el primer valor\n",
    "print(personas['resultados'][0]['nombre']) #se entra al primer valor a la llave de nombre\n",
    "print(personas['resultados'][0]['edad']) #se entra al primer valor a la llave de edad\n",
    "print(\"-\"*80)\n",
    "print(\"Obtener los valores de la segunda clave\")\n",
    "print(personas['resultados'][1]) #se obtiene todo el segundo valor\n",
    "print(personas['resultados'][1]['nombre'] ) #se entra al primer valor a la llave de nombre\n",
    "print(personas['resultados'][1]['edad']) #se entra al primer valor a la llave de edad"
   ]
  },
  {
   "cell_type": "markdown",
   "metadata": {
    "id": "BqYDj2IZvTIS"
   },
   "source": [
    "###  **EJEMPLO REAL DE UN API Y JSON - POKEAPI**"
   ]
  },
  {
   "cell_type": "code",
   "execution_count": null,
   "metadata": {
    "colab": {
     "base_uri": "https://localhost:8080/"
    },
    "id": "2_ktZtmFvalN",
    "outputId": "b0bc9e1f-9c16-4f2f-e29a-44c4d4cc1985"
   },
   "outputs": [],
   "source": [
    "#Paso 0 -> ¿Funciona la Api? Probemos los datos llamando un Json\n",
    "\n",
    "import requests\n",
    "import json\n",
    "\n",
    "url = 'https://pokeapi.co/api/v2/pokemon/1'\n",
    "\n",
    "respuesta = requests.get(url)\n",
    "\n",
    "data = respuesta.json()\n",
    "\n",
    "#En este caso se está imprimiendo todo el json del api, lo cual no es lo más adecuado porque no se entiende nada\n",
    "print(data)"
   ]
  },
  {
   "cell_type": "code",
   "execution_count": null,
   "metadata": {
    "colab": {
     "base_uri": "https://localhost:8080/"
    },
    "id": "YTNVE4xUznOS",
    "outputId": "640f0d33-69c3-46f9-8a79-e301d5e21c1e"
   },
   "outputs": [
    {
     "name": "stdout",
     "output_type": "stream",
     "text": [
      "dict_keys(['abilities', 'base_experience', 'cries', 'forms', 'game_indices', 'height', 'held_items', 'id', 'is_default', 'location_area_encounters', 'moves', 'name', 'order', 'past_abilities', 'past_types', 'species', 'sprites', 'stats', 'types', 'weight'])\n"
     ]
    }
   ],
   "source": [
    "#Paso  1 -> ¿Cuáles son las llaves de los datos recibidos?\n",
    "\n",
    "import requests\n",
    "import json\n",
    "\n",
    "url = 'https://pokeapi.co/api/v2/pokemon/1'\n",
    "\n",
    "respuesta = requests.get(url)\n",
    "\n",
    "data = respuesta.json()\n",
    "\n",
    "#En este caso solo estamos viendo las llaves principales del json, sin embargo, se ve en una sola línea\n",
    "print(\n",
    "    data.keys()\n",
    "    )"
   ]
  },
  {
   "cell_type": "code",
   "execution_count": null,
   "metadata": {
    "colab": {
     "base_uri": "https://localhost:8080/"
    },
    "id": "4NTN7heo0Mh-",
    "outputId": "76d1eba5-c82e-4da7-8e13-0e905de2e2e6"
   },
   "outputs": [
    {
     "name": "stdout",
     "output_type": "stream",
     "text": [
      "[\n",
      "  \"abilities\",\n",
      "  \"base_experience\",\n",
      "  \"cries\",\n",
      "  \"forms\",\n",
      "  \"game_indices\",\n",
      "  \"height\",\n",
      "  \"held_items\",\n",
      "  \"id\",\n",
      "  \"is_default\",\n",
      "  \"location_area_encounters\",\n",
      "  \"moves\",\n",
      "  \"name\",\n",
      "  \"order\",\n",
      "  \"past_abilities\",\n",
      "  \"past_types\",\n",
      "  \"species\",\n",
      "  \"sprites\",\n",
      "  \"stats\",\n",
      "  \"types\",\n",
      "  \"weight\"\n",
      "]\n"
     ]
    }
   ],
   "source": [
    "#Paso 1.1 -> Quiero visualizar la lista en una sola columna\n",
    "\n",
    "import requests\n",
    "import json\n",
    "\n",
    "url = 'https://pokeapi.co/api/v2/pokemon/1'\n",
    "\n",
    "respuesta = requests.get(url)\n",
    "\n",
    "data = respuesta.json()\n",
    "\n",
    "#aquí convertimos las claves principales en una lista\n",
    "lista_claves = list(data.keys())\n",
    "\n",
    "#aquí le agregamos salto de línea a cada fila y o imprimimos\n",
    "print(\n",
    "    json.dumps(lista_claves, indent=2)\n",
    ")\n"
   ]
  }
 ],
 "metadata": {
  "colab": {
   "provenance": []
  },
  "kernelspec": {
   "display_name": "Python 3 (ipykernel)",
   "language": "python",
   "name": "python3"
  },
  "language_info": {
   "codemirror_mode": {
    "name": "ipython",
    "version": 3
   },
   "file_extension": ".py",
   "mimetype": "text/x-python",
   "name": "python",
   "nbconvert_exporter": "python",
   "pygments_lexer": "ipython3",
   "version": "3.11.9"
  }
 },
 "nbformat": 4,
 "nbformat_minor": 4
}
